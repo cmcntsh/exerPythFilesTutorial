{
 "cells": [
  {
   "cell_type": "markdown",
   "id": "c3dc0c5e",
   "metadata": {
    "deletable": false,
    "editable": false,
    "nbgrader": {
     "cell_type": "markdown",
     "checksum": "081e365d2a9a74f41a8e326e35076405",
     "grade": false,
     "grade_id": "cell-67aa711c599c4f84",
     "locked": true,
     "schema_version": 3,
     "solution": false,
     "task": false
    }
   },
   "source": [
    "# Python File Objects"
   ]
  },
  {
   "cell_type": "markdown",
   "id": "719a0990",
   "metadata": {
    "deletable": false,
    "editable": false,
    "nbgrader": {
     "cell_type": "markdown",
     "checksum": "b259d209c4e27fb691d9ba1b92fd2af0",
     "grade": false,
     "grade_id": "cell-890233b773a5522e",
     "locked": true,
     "schema_version": 3,
     "solution": false,
     "task": false
    }
   },
   "source": [
    "### Instructions\n",
    "\n",
    "* Watch the video tutorial about the os module at https://www.youtube.com/watch?v=Uh2ebFW8OYM&list=PL-osiE80TeTskrapNbzXhwoFUiLCjGgY7&index=13 \n",
    "* Complete the programming exercises below as you go through the tutorial.\n",
    "* Delete or comment out the line of code in each cell which says `raise NotImplementedError()` and replace it with your own.\n",
    "\n",
    "### Exercises"
   ]
  },
  {
   "cell_type": "code",
   "execution_count": null,
   "id": "a78c8e2f",
   "metadata": {
    "deletable": false,
    "editable": false,
    "nbgrader": {
     "cell_type": "code",
     "checksum": "115e6885999e2c003f2968fadff3a123",
     "grade": false,
     "grade_id": "cell-1984a4d3f6055982",
     "locked": true,
     "schema_version": 3,
     "solution": false,
     "task": false
    }
   },
   "outputs": [],
   "source": [
    "# Run the code in this cell to create the test.txt file used in the video.\n",
    "\n",
    "import os\n",
    "\n",
    "with open(os.path.join(os.getcwd(), 'test.txt'), 'w') as f:\n",
    "    f.writelines(['1) This is a test file!\\n','2) With multiple lines of data...\\n','3) Third line\\n','4) Fourth line\\n', \\\n",
    "                  '5) Fifth line\\n', '6) Sixth line\\n','7) Seventh line\\n','8) Eighth line\\n','9) Ninth line\\n', \\\n",
    "                  '10) Tenth line'])\n",
    "    \n",
    "file_path = os.path.join(os.getcwd(), 'test.txt')\n",
    "    \n",
    "print('Path to new file: ', file_path)"
   ]
  },
  {
   "cell_type": "markdown",
   "id": "c2a92812",
   "metadata": {
    "deletable": false,
    "editable": false,
    "nbgrader": {
     "cell_type": "markdown",
     "checksum": "492b7f4f9657eca0b02ae31ae7f35ac0",
     "grade": false,
     "grade_id": "cell-28d175fef9cdfdb7",
     "locked": true,
     "schema_version": 3,
     "solution": false,
     "task": false
    }
   },
   "source": [
    "Write code in the cell below.\n",
    "\n",
    "* Open the file `test.txt` to read the contents.\n",
    "* Print the file name.\n",
    "* Close the file."
   ]
  },
  {
   "cell_type": "code",
   "execution_count": null,
   "id": "9911b18a",
   "metadata": {
    "deletable": false,
    "nbgrader": {
     "cell_type": "code",
     "checksum": "f0876f7b157ef2e1d4c5ffdf5f836436",
     "grade": true,
     "grade_id": "cell-c471344138a09291",
     "locked": false,
     "points": 1,
     "schema_version": 3,
     "solution": true,
     "task": false
    }
   },
   "outputs": [],
   "source": [
    "\n",
    "# YOUR CODE HERE\n",
    "raise NotImplementedError()"
   ]
  },
  {
   "cell_type": "markdown",
   "id": "7a7de3f5",
   "metadata": {
    "deletable": false,
    "editable": false,
    "nbgrader": {
     "cell_type": "markdown",
     "checksum": "28aee41b6fff6459e05c8802915ad5e1",
     "grade": false,
     "grade_id": "cell-33f1d4cf1d072f1e",
     "locked": true,
     "schema_version": 3,
     "solution": false,
     "task": false
    }
   },
   "source": [
    "Write code in the cell below.\n",
    "\n",
    "* Open the file `test.txt` to read the contents using a context manager.\n",
    "* Create a variable `f_contents` which reads all of the contents of the file.\n",
    "* Print `f_contents`."
   ]
  },
  {
   "cell_type": "code",
   "execution_count": null,
   "id": "d968333d",
   "metadata": {
    "deletable": false,
    "nbgrader": {
     "cell_type": "code",
     "checksum": "85d7455fc987c48968c4ec93b9953726",
     "grade": true,
     "grade_id": "cell-2add8c9a526695e6",
     "locked": false,
     "points": 1,
     "schema_version": 3,
     "solution": true,
     "task": false
    }
   },
   "outputs": [],
   "source": [
    "\n",
    "# YOUR CODE HERE\n",
    "raise NotImplementedError()"
   ]
  },
  {
   "cell_type": "markdown",
   "id": "cfd6f877",
   "metadata": {
    "deletable": false,
    "editable": false,
    "nbgrader": {
     "cell_type": "markdown",
     "checksum": "52ea26b8ce8c32dca502f5ccf96173a3",
     "grade": false,
     "grade_id": "cell-a7c6293b08ee5de6",
     "locked": true,
     "schema_version": 3,
     "solution": false,
     "task": false
    }
   },
   "source": [
    "Write code in the cell below.\n",
    "\n",
    "* Open the file `test.txt` to read the contents using a context manager.\n",
    "* Create a variable `f_contents` which reads the contents of the file by lines and puts the lines into a list.\n",
    "* Print `f_contents`."
   ]
  },
  {
   "cell_type": "code",
   "execution_count": null,
   "id": "26c6eeaa",
   "metadata": {
    "deletable": false,
    "nbgrader": {
     "cell_type": "code",
     "checksum": "71b171a5d84061612d172a47a4c4dbab",
     "grade": true,
     "grade_id": "cell-988aea23c28c7172",
     "locked": false,
     "points": 1,
     "schema_version": 3,
     "solution": true,
     "task": false
    }
   },
   "outputs": [],
   "source": [
    "\n",
    "# YOUR CODE HERE\n",
    "raise NotImplementedError()"
   ]
  },
  {
   "cell_type": "markdown",
   "id": "8a1e6b23",
   "metadata": {
    "deletable": false,
    "editable": false,
    "nbgrader": {
     "cell_type": "markdown",
     "checksum": "7acb4d93e9eeded8c2c21eaa6363ddf8",
     "grade": false,
     "grade_id": "cell-c7eb20fae3a9fe72",
     "locked": true,
     "schema_version": 3,
     "solution": false,
     "task": false
    }
   },
   "source": [
    "Write code in the cell below.\n",
    "\n",
    "* Open the file `test.txt` to read the contents using a context manager.\n",
    "* Use a for loop to iterate through the lines in the file and print each line."
   ]
  },
  {
   "cell_type": "code",
   "execution_count": null,
   "id": "e6a9e8fa",
   "metadata": {
    "deletable": false,
    "nbgrader": {
     "cell_type": "code",
     "checksum": "a541416381ad4cbdb3b2d76ebf71cfce",
     "grade": true,
     "grade_id": "cell-c7e56ab2846492d7",
     "locked": false,
     "points": 1,
     "schema_version": 3,
     "solution": true,
     "task": false
    }
   },
   "outputs": [],
   "source": [
    "\n",
    "# YOUR CODE HERE\n",
    "raise NotImplementedError()"
   ]
  },
  {
   "cell_type": "markdown",
   "id": "a8546ff1",
   "metadata": {
    "deletable": false,
    "editable": false,
    "nbgrader": {
     "cell_type": "markdown",
     "checksum": "f8335ef3592cca3bbc245326872a656e",
     "grade": false,
     "grade_id": "cell-4fd6272176e25d35",
     "locked": true,
     "schema_version": 3,
     "solution": false,
     "task": false
    }
   },
   "source": [
    "Write code in the cell below.\n",
    "\n",
    "* Open the file `test.txt` to read the contents using a context manager.\n",
    "* Create a variable `f_contents` which reads the contents of the file 100 characters at a time.\n",
    "* Print `f_contents`."
   ]
  },
  {
   "cell_type": "code",
   "execution_count": null,
   "id": "ad91c5da",
   "metadata": {
    "deletable": false,
    "nbgrader": {
     "cell_type": "code",
     "checksum": "ddc6a6aa3083c01b35bb86231a7dc475",
     "grade": true,
     "grade_id": "cell-fb41187af5f89c46",
     "locked": false,
     "points": 1,
     "schema_version": 3,
     "solution": true,
     "task": false
    }
   },
   "outputs": [],
   "source": [
    "\n",
    "# YOUR CODE HERE\n",
    "raise NotImplementedError()"
   ]
  },
  {
   "cell_type": "markdown",
   "id": "46bfbbb0",
   "metadata": {
    "deletable": false,
    "editable": false,
    "nbgrader": {
     "cell_type": "markdown",
     "checksum": "d547d2ae34829539b0170d00d88b7920",
     "grade": false,
     "grade_id": "cell-13de0639bb03ea70",
     "locked": true,
     "schema_version": 3,
     "solution": false,
     "task": false
    }
   },
   "source": [
    "Write code in the cell below.\n",
    "\n",
    "* Open the file `test.txt` to read the contents using a context manager.\n",
    "* Create a variable called `size_to_read` with a value of 100.\n",
    "* Create a variable `f_contents` which reads the contents of the file using the value in `size_to_read`.\n",
    "* Use a while loop to print `f_contents`."
   ]
  },
  {
   "cell_type": "code",
   "execution_count": null,
   "id": "80c3ccdc",
   "metadata": {
    "deletable": false,
    "nbgrader": {
     "cell_type": "code",
     "checksum": "57ea471cdc25b22830e86a1a1d161935",
     "grade": true,
     "grade_id": "cell-6f08a1786ea08450",
     "locked": false,
     "points": 1,
     "schema_version": 3,
     "solution": true,
     "task": false
    }
   },
   "outputs": [],
   "source": [
    "\n",
    "# YOUR CODE HERE\n",
    "raise NotImplementedError()"
   ]
  },
  {
   "cell_type": "markdown",
   "id": "d857604e",
   "metadata": {
    "deletable": false,
    "editable": false,
    "nbgrader": {
     "cell_type": "markdown",
     "checksum": "ebdaf8abf2a195f4a7672f50445399ba",
     "grade": false,
     "grade_id": "cell-05e299c1f5788a87",
     "locked": true,
     "schema_version": 3,
     "solution": false,
     "task": false
    }
   },
   "source": [
    "Write code in the cell below.\n",
    "\n",
    "* Open the file `test.txt` to read the contents using a context manager.\n",
    "* Create a variable called `size_to_read` with a value of 10.\n",
    "* Create a variable `f_contents` which reads the contents of the file using the value in `size_to_read`.\n",
    "* Print `f_contents`.\n",
    "* Use f.seek() with a value of 0 to start at the beginning of the document again.\n",
    "* Create a variable `f_contents` which reads the contents of the file using the value in `size_to_read`.\n",
    "* Print `f_contents`."
   ]
  },
  {
   "cell_type": "code",
   "execution_count": null,
   "id": "1661f179",
   "metadata": {
    "deletable": false,
    "nbgrader": {
     "cell_type": "code",
     "checksum": "b3ab43bb968229f1bfcbb008564f842c",
     "grade": true,
     "grade_id": "cell-5818597da049a289",
     "locked": false,
     "points": 1,
     "schema_version": 3,
     "solution": true,
     "task": false
    }
   },
   "outputs": [],
   "source": [
    "\n",
    "# YOUR CODE HERE\n",
    "raise NotImplementedError()"
   ]
  },
  {
   "cell_type": "markdown",
   "id": "c104fab7",
   "metadata": {
    "deletable": false,
    "editable": false,
    "nbgrader": {
     "cell_type": "markdown",
     "checksum": "f05d26e761f4877711eed18f86f1cfd8",
     "grade": false,
     "grade_id": "cell-33c8a1e52b371b53",
     "locked": true,
     "schema_version": 3,
     "solution": false,
     "task": false
    }
   },
   "source": [
    "Write code in the cell below.\n",
    "\n",
    "* Using a context manager, write a file called `test2.txt`.\n",
    "* Write the text `Test` in the file."
   ]
  },
  {
   "cell_type": "code",
   "execution_count": null,
   "id": "7dfbd6da",
   "metadata": {
    "deletable": false,
    "nbgrader": {
     "cell_type": "code",
     "checksum": "1cc8c5a0d2d4e2d26cdfda2e508088ca",
     "grade": true,
     "grade_id": "cell-9adb909f182daa3d",
     "locked": false,
     "points": 1,
     "schema_version": 3,
     "solution": true,
     "task": false
    }
   },
   "outputs": [],
   "source": [
    "\n",
    "# YOUR CODE HERE\n",
    "raise NotImplementedError()"
   ]
  },
  {
   "cell_type": "markdown",
   "id": "44231900",
   "metadata": {
    "deletable": false,
    "editable": false,
    "nbgrader": {
     "cell_type": "markdown",
     "checksum": "53d696c4f745810f2c2b69c65c982ad8",
     "grade": false,
     "grade_id": "cell-3f331056a94eff18",
     "locked": true,
     "schema_version": 3,
     "solution": false,
     "task": false
    }
   },
   "source": [
    "Write code in the cell below.\n",
    "\n",
    "* Open the file `test.txt` in read mode using a context manager.\n",
    "* Open the file `test_copy.txt` in write mode using a context manager.\n",
    "* Use a for loop to read each line in `test.txt` and write it to `test_copy.txt`."
   ]
  },
  {
   "cell_type": "code",
   "execution_count": null,
   "id": "da80949e",
   "metadata": {
    "deletable": false,
    "nbgrader": {
     "cell_type": "code",
     "checksum": "4919d0ec6ada66fc3902106a725e9376",
     "grade": true,
     "grade_id": "cell-0e9ba965e3c8dd33",
     "locked": false,
     "points": 1,
     "schema_version": 3,
     "solution": true,
     "task": false
    }
   },
   "outputs": [],
   "source": [
    "\n",
    "# YOUR CODE HERE\n",
    "raise NotImplementedError()"
   ]
  },
  {
   "cell_type": "markdown",
   "id": "db3e8ef3",
   "metadata": {
    "deletable": false,
    "editable": false,
    "nbgrader": {
     "cell_type": "markdown",
     "checksum": "a447e285a902bea512a509c4477af84d",
     "grade": false,
     "grade_id": "cell-eaf5b87fb7796b61",
     "locked": true,
     "schema_version": 3,
     "solution": false,
     "task": false
    }
   },
   "source": [
    "Find a jpg or some kind of image file and place it in the same directory as your test.txt file. (The path to that file should be printed out at the beginning of this assignment.)\n",
    "\n",
    "Write code in the cell below.\n",
    "\n",
    "* Open the image file in read mode using a context manager.\n",
    "* Open the image_copy file in write mode using a context manager.\n",
    "* Use a for loop to read each line in original image file and write it to the image_copy file."
   ]
  },
  {
   "cell_type": "code",
   "execution_count": null,
   "id": "87dfd4c5",
   "metadata": {
    "deletable": false,
    "nbgrader": {
     "cell_type": "code",
     "checksum": "a8d555b3f1a3e80a5d157f440bb16b5f",
     "grade": true,
     "grade_id": "cell-ead28ae376e3bcd2",
     "locked": false,
     "points": 1,
     "schema_version": 3,
     "solution": true,
     "task": false
    }
   },
   "outputs": [],
   "source": [
    "\n",
    "# YOUR CODE HERE\n",
    "raise NotImplementedError()"
   ]
  },
  {
   "cell_type": "markdown",
   "id": "c293f7fe",
   "metadata": {
    "deletable": false,
    "editable": false,
    "nbgrader": {
     "cell_type": "markdown",
     "checksum": "3fddd44d3e833396078110ec9e46d6b6",
     "grade": false,
     "grade_id": "cell-a42a92ae758cf65e",
     "locked": true,
     "schema_version": 3,
     "solution": false,
     "task": false
    }
   },
   "source": [
    "Write code in the cell below.\n",
    "\n",
    "* Open the image file in read mode using a context manager.\n",
    "* Open the image_copy file in write mode using a context manager.\n",
    "* Use a while loop to read 4096 bytes at a time in original image file and write it to the image_copy file."
   ]
  },
  {
   "cell_type": "code",
   "execution_count": null,
   "id": "b56bb280",
   "metadata": {
    "deletable": false,
    "nbgrader": {
     "cell_type": "code",
     "checksum": "f66dbeb0b1efc3e07b4432213b9dade4",
     "grade": true,
     "grade_id": "cell-d6b144ddec997e62",
     "locked": false,
     "points": 1,
     "schema_version": 3,
     "solution": true,
     "task": false
    }
   },
   "outputs": [],
   "source": [
    "\n",
    "# YOUR CODE HERE\n",
    "raise NotImplementedError()"
   ]
  }
 ],
 "metadata": {
  "kernelspec": {
   "display_name": "Python 3",
   "language": "python",
   "name": "python3"
  },
  "language_info": {
   "codemirror_mode": {
    "name": "ipython",
    "version": 3
   },
   "file_extension": ".py",
   "mimetype": "text/x-python",
   "name": "python",
   "nbconvert_exporter": "python",
   "pygments_lexer": "ipython3",
   "version": "3.8.8"
  }
 },
 "nbformat": 4,
 "nbformat_minor": 5
}
